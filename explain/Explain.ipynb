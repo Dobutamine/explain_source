{
 "cells": [
  {
   "cell_type": "code",
   "execution_count": 1,
   "id": "fd3851e6-37b3-4ff0-807c-03b11563f3de",
   "metadata": {},
   "outputs": [
    {
     "name": "stdout",
     "output_type": "stream",
     "text": [
      "Explain engine ready and configured with ./definitions/normal_neonate_24h.json\n"
     ]
    }
   ],
   "source": [
    "%run explain.py"
   ]
  },
  {
   "cell_type": "code",
   "execution_count": 8,
   "id": "de14df38-a1de-4a54-94ca-9873ccd9e6d0",
   "metadata": {},
   "outputs": [
    {
     "name": "stdout",
     "output_type": "stream",
     "text": [
      "Calculating model run of 120 sec. in 240000 steps.\n",
      "Ready in 0.629 sec. Average model step in 0.0026 ms.\n",
      "\n",
      "OUT_NCA.flow    : -0.0     l/min, stroke volume: -0.0  ml\n",
      "NCA_ALL.flow    : -0.0     l/min, stroke volume: -0.0  ml\n",
      "NCA_ALR.flow    : -0.0     l/min, stroke volume: -0.0  ml\n"
     ]
    }
   ],
   "source": [
    "neo.gas_flows(120)"
   ]
  },
  {
   "cell_type": "code",
   "execution_count": null,
   "id": "a5d9675d-8146-45f9-a52a-510b3ca9ecba",
   "metadata": {},
   "outputs": [],
   "source": []
  }
 ],
 "metadata": {
  "kernelspec": {
   "display_name": "Python 3 (ipykernel)",
   "language": "python",
   "name": "python3"
  },
  "language_info": {
   "codemirror_mode": {
    "name": "ipython",
    "version": 3
   },
   "file_extension": ".py",
   "mimetype": "text/x-python",
   "name": "python",
   "nbconvert_exporter": "python",
   "pygments_lexer": "ipython3",
   "version": "3.7.10"
  }
 },
 "nbformat": 4,
 "nbformat_minor": 5
}
