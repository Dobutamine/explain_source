{
 "cells": [
  {
   "cell_type": "code",
   "execution_count": 1,
   "id": "fd3851e6-37b3-4ff0-807c-03b11563f3de",
   "metadata": {},
   "outputs": [
    {
     "name": "stdout",
     "output_type": "stream",
     "text": [
      "Explain engine ready and configured with ./definitions/normal_neonate_24h.json\n"
     ]
    }
   ],
   "source": [
    "%run explain.py"
   ]
  },
  {
   "cell_type": "code",
   "execution_count": 9,
   "id": "bf1f0fc0-8e2f-420e-8584-29a648a8819d",
   "metadata": {},
   "outputs": [
    {
     "name": "stdout",
     "output_type": "stream",
     "text": [
      "Calculating model run of 1800 sec. in 3600000 steps.\n",
      "Ready in 6.49 sec. Average model step in 0.0018 ms.\n",
      "\n",
      "AA.vol -> max: 0.005502115163268595, min: 0.004805020032536538, median 0.005169065002481493, std 0.00021599111998573309\n",
      "AAR.vol -> max: 0.005427945373477728, min: 0.004857824027303325, median 0.005152790151703635, std 0.00017731425241854514\n",
      "AD.vol -> max: 0.033085713783547875, min: 0.029226009493980354, median 0.03121824115609595, std 0.001206900089511631\n"
     ]
    }
   ],
   "source": [
    "neo.analyze([\"AA.vol\", \"AAR.vol\",\"AD.vol\"], 1800)"
   ]
  },
  {
   "cell_type": "code",
   "execution_count": null,
   "id": "5ee50b38-eb24-4947-b926-492159e0efd8",
   "metadata": {},
   "outputs": [],
   "source": []
  }
 ],
 "metadata": {
  "kernelspec": {
   "display_name": "Python 3 (ipykernel)",
   "language": "python",
   "name": "python3"
  },
  "language_info": {
   "codemirror_mode": {
    "name": "ipython",
    "version": 3
   },
   "file_extension": ".py",
   "mimetype": "text/x-python",
   "name": "python",
   "nbconvert_exporter": "python",
   "pygments_lexer": "ipython3",
   "version": "3.7.10"
  }
 },
 "nbformat": 4,
 "nbformat_minor": 5
}
