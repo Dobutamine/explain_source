{
 "cells": [
  {
   "cell_type": "code",
   "execution_count": 1,
   "metadata": {},
   "outputs": [
    {
     "name": "stdout",
     "output_type": "stream",
     "text": [
      "Explain engine ready and configured with ./definitions/normal_neonate_24h.json\n"
     ]
    }
   ],
   "source": [
    "%run explain.py"
   ]
  },
  {
   "cell_type": "code",
   "execution_count": 2,
   "metadata": {},
   "outputs": [
    {
     "name": "stdout",
     "output_type": "stream",
     "text": [
      "Calculating model run of 10 sec. in 20000 steps.\n",
      "Ready in 1.302 sec. Average model step in 0.0651 ms.\n",
      "\n",
      "OUT_NCA.flow    : -0.15767 l/min, stroke volume: -1.38169 ml\n",
      "NCA_ALL.flow    : -0.07844 l/min, stroke volume: -0.6874 ml\n",
      "NCA_ALR.flow    : -0.07844 l/min, stroke volume: -0.6874 ml\n"
     ]
    }
   ],
   "source": [
    "neo.gas_flows(10)"
   ]
  },
  {
   "cell_type": "code",
   "execution_count": null,
   "metadata": {},
   "outputs": [],
   "source": [
    "neo.plot_heart_pres()"
   ]
  },
  {
   "cell_type": "code",
   "execution_count": null,
   "metadata": {},
   "outputs": [],
   "source": []
  }
 ],
 "metadata": {
  "kernelspec": {
   "display_name": "Python 3",
   "language": "python",
   "name": "python3"
  },
  "language_info": {
   "codemirror_mode": {
    "name": "ipython",
    "version": 3
   },
   "file_extension": ".py",
   "mimetype": "text/x-python",
   "name": "python",
   "nbconvert_exporter": "python",
   "pygments_lexer": "ipython3",
   "version": "3.8.5"
  }
 },
 "nbformat": 4,
 "nbformat_minor": 5
}
