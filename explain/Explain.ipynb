{
 "cells": [
  {
   "cell_type": "code",
   "execution_count": 1,
   "id": "fd3851e6-37b3-4ff0-807c-03b11563f3de",
   "metadata": {},
   "outputs": [
    {
     "name": "stdout",
     "output_type": "stream",
     "text": [
      "normal neonate model ready and stored in variable 'neo'.\n"
     ]
    }
   ],
   "source": [
    "%run main.py"
   ]
  },
  {
   "cell_type": "code",
   "execution_count": 2,
   "id": "74023d44-6a4f-454c-8a87-a534c50e5de4",
   "metadata": {},
   "outputs": [
    {
     "name": "stdout",
     "output_type": "stream",
     "text": [
      "ready in 0.13153912499910803 sec.\n",
      "average model step in 0.06576956249955401 ms\n",
      "model clock at 0 sec\n"
     ]
    }
   ],
   "source": [
    "neo.calculate(1)"
   ]
  },
  {
   "cell_type": "code",
   "execution_count": null,
   "id": "b419027e-e598-45b5-ac14-6bc27f903a33",
   "metadata": {},
   "outputs": [],
   "source": []
  }
 ],
 "metadata": {
  "kernelspec": {
   "display_name": "Python 3 (ipykernel)",
   "language": "python",
   "name": "python3"
  },
  "language_info": {
   "codemirror_mode": {
    "name": "ipython",
    "version": 3
   },
   "file_extension": ".py",
   "mimetype": "text/x-python",
   "name": "python",
   "nbconvert_exporter": "python",
   "pygments_lexer": "ipython3",
   "version": "3.7.10"
  }
 },
 "nbformat": 4,
 "nbformat_minor": 5
}
