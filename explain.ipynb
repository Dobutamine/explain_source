{
 "cells": [
  {
   "cell_type": "code",
   "execution_count": 7,
   "id": "152500fe-9600-484e-af57-cd4fdfb71d3f",
   "metadata": {},
   "outputs": [],
   "source": [
    "%run explain.py\n",
    "neo = Model().io"
   ]
  },
  {
   "cell_type": "code",
   "execution_count": 10,
   "id": "f9431700-9a29-49bd-91f9-a0d480a5a847",
   "metadata": {},
   "outputs": [
    {
     "name": "stdout",
     "output_type": "stream",
     "text": [
      "On branch master\n",
      "Your branch is up to date with 'origin/master'.\n",
      "\n",
      "Changes not staged for commit:\n",
      "  (use \"git add <file>...\" to update what will be committed)\n",
      "  (use \"git checkout -- <file>...\" to discard changes in working directory)\n",
      "\n",
      "\t\u001b[31mmodified:   explain.ipynb\u001b[m\n",
      "\t\u001b[31mmodified:   explain.py\u001b[m\n",
      "\t\u001b[31mmodified:   requirements.txt\u001b[m\n",
      "\n",
      "Untracked files:\n",
      "  (use \"git add <file>...\" to include in what will be committed)\n",
      "\n",
      "\t\u001b[31mexplain_integrated.ipynb\u001b[m\n",
      "\n",
      "no changes added to commit (use \"git add\" and/or \"git commit -a\")\n"
     ]
    }
   ],
   "source": [
    "!git status"
   ]
  },
  {
   "cell_type": "code",
   "execution_count": 15,
   "id": "6b41284e-7022-48e9-a9e9-33224745d892",
   "metadata": {},
   "outputs": [
    {
     "name": "stdout",
     "output_type": "stream",
     "text": [
      "hint: Waiting for your editor to close the file... error: cannot run editor: No such file or directory\n",
      "error: unable to start editor 'editor'\n",
      "Please supply the message using either -m or -F option.\n"
     ]
    }
   ],
   "source": [
    "!git commit -a"
   ]
  },
  {
   "cell_type": "code",
   "execution_count": 13,
   "id": "640cddd3-1840-4827-84bd-8b50898c7f59",
   "metadata": {},
   "outputs": [],
   "source": [
    "!git config --global user.email \"tim.antonius@outlook.com\""
   ]
  },
  {
   "cell_type": "code",
   "execution_count": 14,
   "id": "2e8ea987-6119-40a5-9165-42fb6a157150",
   "metadata": {},
   "outputs": [],
   "source": [
    "!git config --global user.name \"dobutamine\""
   ]
  },
  {
   "cell_type": "code",
   "execution_count": null,
   "id": "430e7c70-24c3-4835-a164-ecb7c3fb984c",
   "metadata": {},
   "outputs": [],
   "source": []
  }
 ],
 "metadata": {
  "kernelspec": {
   "display_name": "Python 3 (ipykernel)",
   "language": "python",
   "name": "python3"
  },
  "language_info": {
   "codemirror_mode": {
    "name": "ipython",
    "version": 3
   },
   "file_extension": ".py",
   "mimetype": "text/x-python",
   "name": "python",
   "nbconvert_exporter": "python",
   "pygments_lexer": "ipython3",
   "version": "3.7.10"
  },
  "toc-autonumbering": true
 },
 "nbformat": 4,
 "nbformat_minor": 5
}
