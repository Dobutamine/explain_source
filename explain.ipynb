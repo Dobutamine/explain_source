{
 "cells": [
  {
   "cell_type": "markdown",
   "id": "b9249ce9",
   "metadata": {},
   "source": [
    "<h1>An integrated model for simulation of neonatal physiology</h1>\n",
    "<h4>Antonius TAJ, van Meurs WL, Westerhof BE, de Boode WP</h4>"
   ]
  },
  {
   "cell_type": "code",
   "execution_count": 1,
   "id": "59db0947",
   "metadata": {},
   "outputs": [],
   "source": [
    "%run explain.py\n",
    "new_model = Model()\n",
    "neo = new_model.io"
   ]
  },
  {
   "cell_type": "code",
   "execution_count": 2,
   "id": "6cbac5b6",
   "metadata": {},
   "outputs": [
    {
     "name": "stdout",
     "output_type": "stream",
     "text": [
      "Calculating model run of 10 sec. in 20000 steps.\n",
      "Ready in 0.169 sec. Average model step in 0.0085 ms.\n",
      "\n",
      "AA.pres    max : 71.78168   min: 44.87466   mmHg\n",
      "AAR.pres   max : 70.46335   min: 44.8189    mmHg\n",
      "AD.pres    max : 69.89911   min: 44.83145   mmHg\n",
      "COR.pres   max : 44.14495   min: 14.29771   mmHg\n",
      "RLB.pres   max : 9.91221    min: 9.29509    mmHg\n",
      "LS.pres    max : 10.05414   min: 8.85547    mmHg\n",
      "KID.pres   max : 33.75938   min: 10.26605   mmHg\n",
      "INT.pres   max : 10.16196   min: 8.70849    mmHg\n",
      "RUB.pres   max : 7.36064    min: 6.4695     mmHg\n",
      "BR.pres    max : 7.36064    min: 6.4695     mmHg\n",
      "IVCI.pres  max : 5.08594    min: 3.63361    mmHg\n",
      "IVCE.pres  max : 4.82654    min: 4.15578    mmHg\n",
      "SVC.pres   max : 4.85522    min: 4.058      mmHg\n",
      "PA.pres    max : 45.0639    min: 19.76983   mmHg\n",
      "LL.pres    max : 26.45168   min: 17.88979   mmHg\n",
      "RL.pres    max : 26.45168   min: 17.88979   mmHg\n",
      "PV.pres    max : 13.53485   min: 8.77389    mmHg\n",
      "LA.pres    max : 10.10369   min: 4.24204    mmHg\n",
      "RA.pres    max : 9.7533     min: 2.40632    mmHg\n",
      "LV.pres    max : 72.37358   min: 2.72428    mmHg\n",
      "RV.pres    max : 45.77967   min: 0.96418    mmHg\n"
     ]
    }
   ],
   "source": [
    "neo.blood_pressures()"
   ]
  },
  {
   "cell_type": "code",
   "execution_count": null,
   "id": "a9acb0a6",
   "metadata": {},
   "outputs": [],
   "source": []
  }
 ],
 "metadata": {
  "kernelspec": {
   "display_name": "Python 3 (ipykernel)",
   "language": "python",
   "name": "python3"
  },
  "language_info": {
   "codemirror_mode": {
    "name": "ipython",
    "version": 3
   },
   "file_extension": ".py",
   "mimetype": "text/x-python",
   "name": "python",
   "nbconvert_exporter": "python",
   "pygments_lexer": "ipython3",
   "version": "3.7.10"
  }
 },
 "nbformat": 4,
 "nbformat_minor": 5
}
