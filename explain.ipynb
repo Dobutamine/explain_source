{
 "cells": [
  {
   "cell_type": "code",
   "execution_count": 23,
   "id": "152500fe-9600-484e-af57-cd4fdfb71d3f",
   "metadata": {},
   "outputs": [],
   "source": [
    "%run explain.py\n",
    "neo = Model().io"
   ]
  },
  {
   "cell_type": "code",
   "execution_count": 25,
   "id": "f9431700-9a29-49bd-91f9-a0d480a5a847",
   "metadata": {},
   "outputs": [
    {
     "name": "stdout",
     "output_type": "stream",
     "text": [
      "Calculating model run of 10 sec. in 20000 steps.\n",
      "Ready in 1.522 sec. Average model step in 0.0761 ms.\n",
      "\n",
      "LV_AA.flow      : 0.84591  l/min, stroke volume: 7.04576 ml\n"
     ]
    }
   ],
   "source": [
    "neo.analyze(\"LV_AA.flow\")"
   ]
  },
  {
   "cell_type": "code",
   "execution_count": 21,
   "id": "6b41284e-7022-48e9-a9e9-33224745d892",
   "metadata": {},
   "outputs": [
    {
     "name": "stdout",
     "output_type": "stream",
     "text": [
      "[master 9ea8b5e] next\n",
      " 4 files changed, 2885 insertions(+), 95 deletions(-)\n",
      " rewrite explain.ipynb (65%)\n",
      " create mode 100644 explain_integrated.ipynb\n"
     ]
    }
   ],
   "source": [
    "!git commit -a -m 'next'"
   ]
  },
  {
   "cell_type": "code",
   "execution_count": 13,
   "id": "640cddd3-1840-4827-84bd-8b50898c7f59",
   "metadata": {},
   "outputs": [],
   "source": [
    "!git config --global user.email \"tim.antonius@outlook.com\""
   ]
  },
  {
   "cell_type": "code",
   "execution_count": 14,
   "id": "2e8ea987-6119-40a5-9165-42fb6a157150",
   "metadata": {},
   "outputs": [],
   "source": [
    "!git config --global user.name \"dobutamine\""
   ]
  },
  {
   "cell_type": "code",
   "execution_count": null,
   "id": "430e7c70-24c3-4835-a164-ecb7c3fb984c",
   "metadata": {},
   "outputs": [],
   "source": []
  }
 ],
 "metadata": {
  "kernelspec": {
   "display_name": "Python 3 (ipykernel)",
   "language": "python",
   "name": "python3"
  },
  "language_info": {
   "codemirror_mode": {
    "name": "ipython",
    "version": 3
   },
   "file_extension": ".py",
   "mimetype": "text/x-python",
   "name": "python",
   "nbconvert_exporter": "python",
   "pygments_lexer": "ipython3",
   "version": "3.9.5"
  },
  "toc-autonumbering": true
 },
 "nbformat": 4,
 "nbformat_minor": 5
}
